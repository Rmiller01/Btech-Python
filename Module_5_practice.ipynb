{
  "nbformat": 4,
  "nbformat_minor": 0,
  "metadata": {
    "colab": {
      "provenance": [],
      "authorship_tag": "ABX9TyNXL7MMww6UUOvQNGpHjZxi",
      "include_colab_link": true
    },
    "kernelspec": {
      "name": "python3",
      "display_name": "Python 3"
    },
    "language_info": {
      "name": "python"
    }
  },
  "cells": [
    {
      "cell_type": "markdown",
      "metadata": {
        "id": "view-in-github",
        "colab_type": "text"
      },
      "source": [
        "<a href=\"https://colab.research.google.com/github/Rmiller01/Btech-Python/blob/main/Module_5_practice.ipynb\" target=\"_parent\"><img src=\"https://colab.research.google.com/assets/colab-badge.svg\" alt=\"Open In Colab\"/></a>"
      ]
    },
    {
      "cell_type": "code",
      "source": [
        "import pandas as pd\n"
      ],
      "metadata": {
        "id": "olC-MTZcTiFy"
      },
      "execution_count": null,
      "outputs": []
    },
    {
      "cell_type": "code",
      "source": [
        "df = pd.read_csv(\"senator_tweets-3.csv\")"
      ],
      "metadata": {
        "id": "cbWOOYWn0SYC"
      },
      "execution_count": null,
      "outputs": []
    },
    {
      "cell_type": "code",
      "source": [
        "def print_name_and_message(message):\n",
        "    my_name = 'Ryan Miller'  # Replace 'Your Name' with your actual name\n",
        "    print(f\"{my_name}: {message}\")\n",
        "\n",
        "\n",
        "message = 'Hello, World!'# Enter a message\n",
        "print_name_and_message(message)"
      ],
      "metadata": {
        "colab": {
          "base_uri": "https://localhost:8080/"
        },
        "id": "ePsJ41kaPTwN",
        "outputId": "df94c0ba-3ec0-4887-b54f-b62ec3206cb2"
      },
      "execution_count": null,
      "outputs": [
        {
          "output_type": "stream",
          "name": "stdout",
          "text": [
            "Ryan Miller: Hello, World!\n"
          ]
        }
      ]
    },
    {
      "cell_type": "code",
      "source": [
        "def add_and_check_even_or_odd(num1, num2):\n",
        "    result = num1 + num2\n",
        "\n",
        "\n",
        "    if result % 2 == 0:\n",
        "        print(f\"The result ({result}) is even.\")\n",
        "    else:\n",
        "        print(f\"The result ({result}) is odd.\")\n",
        "\n",
        "num1 = -43\n",
        "num2 = 81\n",
        "add_and_check_even_or_odd(num1, num2)"
      ],
      "metadata": {
        "colab": {
          "base_uri": "https://localhost:8080/"
        },
        "id": "5tnVAMLUPrwv",
        "outputId": "d9e85697-7afd-4335-9986-f547266a6ce9"
      },
      "execution_count": null,
      "outputs": [
        {
          "output_type": "stream",
          "name": "stdout",
          "text": [
            "The result (38) is even.\n"
          ]
        }
      ]
    },
    {
      "cell_type": "code",
      "source": [
        "def fahr_to_cels(fahrenheit):\n",
        "    celsius = (fahrenheit - 32) * 5/9\n",
        "    return celsius\n",
        "\n",
        "\n",
        "temp_fahrenheit = 63\n",
        "temp_celsius = fahr_to_cels(temp_fahrenheit)\n",
        "print(f\"{temp_fahrenheit} degrees Fahrenheit is equal to {temp_celsius:.2f} degrees Celsius.\")"
      ],
      "metadata": {
        "colab": {
          "base_uri": "https://localhost:8080/"
        },
        "id": "RCgF0xoLQXbc",
        "outputId": "fb615fa0-53b4-4725-91bc-3c758c04d95a"
      },
      "execution_count": null,
      "outputs": [
        {
          "output_type": "stream",
          "name": "stdout",
          "text": [
            "63 degrees Fahrenheit is equal to 17.22 degrees Celsius.\n"
          ]
        }
      ]
    },
    {
      "cell_type": "code",
      "source": [
        "def leap_year_Y_Or_N(year):\n",
        "    if (year % 4 == 0 and year % 100 != 0) or (year % 400 == 0):\n",
        "        return True\n",
        "    else:\n",
        "        return False\n",
        "\n",
        "\n",
        "year = 2032\n",
        "if leap_year_Y_Or_N(year):\n",
        "    print(f\"{year} is a leap year.\")\n",
        "else:\n",
        "    print(f\"{year} is not a leap year.\")"
      ],
      "metadata": {
        "colab": {
          "base_uri": "https://localhost:8080/"
        },
        "id": "Ivle1lb6Q_Ze",
        "outputId": "84c5714c-315a-4875-a61c-9b48da44404f"
      },
      "execution_count": null,
      "outputs": [
        {
          "output_type": "stream",
          "name": "stdout",
          "text": [
            "2032 is a leap year.\n"
          ]
        }
      ]
    },
    {
      "cell_type": "code",
      "source": [
        "def chinese_zodiac(year):\n",
        "    zodiac_animals = [\"Rat\", \"Ox\", \"Tiger\", \"Rabbit\", \"Dragon\", \"Snake\", \"Horse\", \"Sheep\", \"Monkey\", \"Rooster\", \"Dog\", \"Pig\"]\n",
        "\n",
        "    if year >= 1900:\n",
        "        zodiac_index = (year - 1900) % 12\n",
        "        zodiac_sign = zodiac_animals[zodiac_index]\n",
        "        print(f\"The Chinese Zodiac sign for the year {year} is {zodiac_sign}.\")\n",
        "    else:\n",
        "        print(\"Please enter a valid year after 1900.\")\n",
        "\n",
        "\n",
        "year = 2073\n",
        "chinese_zodiac(year)"
      ],
      "metadata": {
        "colab": {
          "base_uri": "https://localhost:8080/"
        },
        "id": "EEeyOFFfSj2h",
        "outputId": "360bdfe4-05ac-4b30-fb5a-b4b5b25b2f9c"
      },
      "execution_count": null,
      "outputs": [
        {
          "output_type": "stream",
          "name": "stdout",
          "text": [
            "The Chinese Zodiac sign for the year 2073 is Snake.\n"
          ]
        }
      ]
    },
    {
      "cell_type": "code",
      "source": [
        "df['tweet length'] = df['text'].str.len()\n"
      ],
      "metadata": {
        "id": "N-A6oyqZ1MYl"
      },
      "execution_count": null,
      "outputs": []
    },
    {
      "cell_type": "code",
      "source": [
        "Correlation_TextLen_Retweets = df['tweet length'].corr(df['retweets'])\n",
        "Correlation_TextLen_Favorites = df['tweet length'].corr(df['favorites'])\n",
        "\n",
        "\n",
        "print(Correlation_TextLen_Favorites)\n",
        "print(Correlation_TextLen_Retweets)"
      ],
      "metadata": {
        "id": "gcJrVBx55M-p"
      },
      "execution_count": null,
      "outputs": []
    },
    {
      "cell_type": "code",
      "source": [
        "Correllation_TextLen_Replies = df['tweet length'].corr(df['replies'])\n",
        "\n",
        "print(Correllation_TextLen_Replies)"
      ],
      "metadata": {
        "id": "pWgGgEjy6nxY",
        "colab": {
          "base_uri": "https://localhost:8080/"
        },
        "outputId": "129b54c7-ded0-4f1d-cc37-578440a18cc1"
      },
      "execution_count": null,
      "outputs": [
        {
          "output_type": "stream",
          "name": "stdout",
          "text": [
            "0.005933593170796377\n"
          ]
        }
      ]
    },
    {
      "cell_type": "code",
      "source": [
        "df['tweet length'].min()\n",
        "\n"
      ],
      "metadata": {
        "colab": {
          "base_uri": "https://localhost:8080/"
        },
        "id": "jCka53oP7OC0",
        "outputId": "16cd02b5-4769-4345-f7cb-d538eb5d6641"
      },
      "execution_count": null,
      "outputs": [
        {
          "output_type": "execute_result",
          "data": {
            "text/plain": [
              "1"
            ]
          },
          "metadata": {},
          "execution_count": 23
        }
      ]
    },
    {
      "cell_type": "code",
      "source": [
        "Tweet_immigration = df['text'].str.contains(\"immigration\")\n",
        "\n",
        "\n",
        "count_immigration_tweets = Tweet_immigration.sum()\n",
        "\n",
        "print(\"the number of tweets containing the word immigration is :\", count_immigration_tweets)"
      ],
      "metadata": {
        "colab": {
          "base_uri": "https://localhost:8080/"
        },
        "id": "87OYjdInBoFW",
        "outputId": "1a95df20-eeb8-4ccf-f915-5028a3208fef"
      },
      "execution_count": null,
      "outputs": [
        {
          "output_type": "stream",
          "name": "stdout",
          "text": [
            "the number of tweets containing the word immigration is : 1329\n"
          ]
        }
      ]
    },
    {
      "cell_type": "code",
      "source": [
        "Tweet_Canada = df['text'].str.contains(\"Canada\")\n",
        "\n",
        "\n",
        "count_Canada_tweets = Tweet_Canada.sum()\n",
        "\n",
        "print(\"the number of tweets containing the word immigration is :\", count_Canada_tweets)"
      ],
      "metadata": {
        "colab": {
          "base_uri": "https://localhost:8080/"
        },
        "id": "f9DyjhkWD5iY",
        "outputId": "86e7f1ce-2a1c-44f7-b5f5-816d99fb3da3"
      },
      "execution_count": null,
      "outputs": [
        {
          "output_type": "stream",
          "name": "stdout",
          "text": [
            "the number of tweets containing the word immigration is : 219\n"
          ]
        }
      ]
    },
    {
      "cell_type": "code",
      "source": [
        "df['Year'] = pd.to_datetime(df['created_at']).dt.year\n",
        "\n",
        "tweets_2010 = df[df['Year'] == 2010]\n",
        "\n",
        "senators_tweets_2010 = tweets_2010[tweets_2010['text'].str.contains('senator')]\n",
        "\n",
        "num_tweets_by_senators_2010 = len(senators_tweets_2010)\n",
        "\n",
        "print(f\"The number of tweets sent by senators in 2010 is {num_tweets_by_senators_2010}.\")"
      ],
      "metadata": {
        "id": "uWh6X3yAVy8j",
        "colab": {
          "base_uri": "https://localhost:8080/"
        },
        "outputId": "e65b4c26-f265-4bac-831f-b287fdc99dfc"
      },
      "execution_count": null,
      "outputs": [
        {
          "output_type": "stream",
          "name": "stdout",
          "text": [
            "The number of tweets sent by senators in 2010 is 2.\n"
          ]
        }
      ]
    },
    {
      "cell_type": "code",
      "source": [
        "df['Timestamp'] = pd.to_datetime(df['created_at'])\n",
        "\n",
        "df['Month'] = df['Timestamp'].dt.month\n",
        "\n",
        "print(df[['Timestamp', 'Month']])\n",
        "\n",
        "df.head(13)"
      ],
      "metadata": {
        "id": "8G2ymvrjecwK"
      },
      "execution_count": null,
      "outputs": []
    },
    {
      "cell_type": "code",
      "source": [
        "df['tweet_date'] = pd.to_datetime(df['created_at'])\n",
        "\n",
        "df['year'] = df['tweet_date'].dt.year\n",
        "df['month'] = df['tweet_date'].dt.month\n",
        "\n",
        "monthly_tweet_counts = df.groupby(['year', 'month']).size().reset_index(name='tweet_count')\n",
        "\n",
        "max_tweet_month = monthly_tweet_counts[monthly_tweet_counts['tweet_count'] == monthly_tweet_counts['tweet_count'].max()]\n",
        "\n",
        "print(monthly_tweet_counts)\n",
        "print(\"Month with the most tweets by senators:\")\n",
        "print(max_tweet_month)"
      ],
      "metadata": {
        "id": "HdSxGwOZgnw9"
      },
      "execution_count": null,
      "outputs": []
    },
    {
      "cell_type": "code",
      "source": [
        "df['word_count'] = df['text'].str.split().apply(len)\n",
        "\n",
        "\n",
        "print(df[['text', 'word_count']])"
      ],
      "metadata": {
        "colab": {
          "base_uri": "https://localhost:8080/"
        },
        "id": "WmV9snDjhL53",
        "outputId": "1b3344bc-fd39-4480-808e-a7f4a31b47c7"
      },
      "execution_count": null,
      "outputs": [
        {
          "output_type": "stream",
          "name": "stdout",
          "text": [
            "                                                     text  word_count\n",
            "0       We released bipartisan healthcare bill today &...          15\n",
            "1       I spoke with @Morning_Joe team abt #HonestAds ...          18\n",
            "2       Lots of interest in my bill with Senators Warn...          18\n",
            "3       Today's the day @MarkWarner, @SenJohnMcCain &a...          18\n",
            "4       .@MarkWarner, @SenJohnMcCain &amp; I put toget...          22\n",
            "...                                                   ...         ...\n",
            "288610  Such a zone would allow the flow of unfettered...          23\n",
            "288611  I welcome greater cooperation between the U.S....          24\n",
            "288612  Educacií_n sobre la prevencií_n del abuso sexu...          19\n",
            "288613  Education on sexual assault prevention should ...          16\n",
            "288614  25 years since passage, the ADA has helped ens...          21\n",
            "\n",
            "[288615 rows x 2 columns]\n"
          ]
        }
      ]
    },
    {
      "cell_type": "code",
      "source": [
        "average_word_count_by_state = df.groupby('state')['word_count'].mean().reset_index()\n",
        "\n",
        "state_with_longest_tweets = average_word_count_by_state[average_word_count_by_state['word_count'] == average_word_count_by_state['word_count'].max()]\n",
        "\n",
        "print(\"State with senators who publish the longest tweets on average:\")\n",
        "print(state_with_longest_tweets)"
      ],
      "metadata": {
        "colab": {
          "base_uri": "https://localhost:8080/"
        },
        "id": "RMKB6C_Lhcak",
        "outputId": "7de73833-8e9b-4cd2-9a73-b3481b743383"
      },
      "execution_count": null,
      "outputs": [
        {
          "output_type": "stream",
          "name": "stdout",
          "text": [
            "State with senators who publish the longest tweets on average:\n",
            "   state  word_count\n",
            "33    NY   19.549318\n"
          ]
        }
      ]
    },
    {
      "cell_type": "code",
      "source": [
        "import pandas as pd\n",
        "\n",
        "df = pd.read_csv(\"invoice_lines.csv\")"
      ],
      "metadata": {
        "id": "12kz52bohyYz"
      },
      "execution_count": null,
      "outputs": []
    },
    {
      "cell_type": "code",
      "source": [
        "color_pattern = r'\\((color[\\w\\s]+)\\)'\n",
        "\n",
        "df['product_colors'] = df['Description'].str.findall(color_pattern)\n",
        "\n",
        "\n",
        "df['product_colors'] = df['product_colors'].apply(lambda x: x if len(x) > 0 else [\"No Color\"])\n",
        "\n",
        "\n",
        "print(df[['Description', 'product_colors']])"
      ],
      "metadata": {
        "id": "klfPsugfh-Ga"
      },
      "execution_count": null,
      "outputs": []
    },
    {
      "cell_type": "code",
      "source": [
        "slippers_df = df[df['Description'].str.contains('slipper')]\n",
        "\n",
        "size_pattern = r'\\s([A-Z]+)$'\n",
        "\n",
        "slippers_df['slipper_size'] = slippers_df['Description'].str.extract(size_pattern)\n",
        "\n",
        "print(slippers_df[['Description', 'slipper_size']])"
      ],
      "metadata": {
        "id": "X9JhERPpkcUY"
      },
      "execution_count": null,
      "outputs": []
    },
    {
      "cell_type": "code",
      "source": [
        "size_counts = slippers_df.groupby('slipper_size')['Quantity'].sum().reset_index()\n",
        "\n",
        "\n",
        "most_popular_size = size_counts[size_counts['Quantity'] == size_counts['Quantity'].max()]\n",
        "\n",
        "\n",
        "print(\"The most popular size of slipper by total quantity ordered is:\")\n",
        "print(most_popular_size)"
      ],
      "metadata": {
        "colab": {
          "base_uri": "https://localhost:8080/"
        },
        "id": "Rd9tbMlXk16Q",
        "outputId": "417696c7-0536-4095-be8b-2cf3061045e9"
      },
      "execution_count": null,
      "outputs": [
        {
          "output_type": "stream",
          "name": "stdout",
          "text": [
            "The most popular size of slipper by total quantity ordered is:\n",
            "  slipper_size  Quantity\n",
            "3           XL     29483\n"
          ]
        }
      ]
    }
  ]
}