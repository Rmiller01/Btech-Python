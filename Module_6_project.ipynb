{
  "nbformat": 4,
  "nbformat_minor": 0,
  "metadata": {
    "colab": {
      "provenance": [],
      "authorship_tag": "ABX9TyOATYlr1UHKMI9WM6eElrws",
      "include_colab_link": true
    },
    "kernelspec": {
      "name": "python3",
      "display_name": "Python 3"
    },
    "language_info": {
      "name": "python"
    }
  },
  "cells": [
    {
      "cell_type": "markdown",
      "metadata": {
        "id": "view-in-github",
        "colab_type": "text"
      },
      "source": [
        "<a href=\"https://colab.research.google.com/github/Rmiller01/Btech-Python/blob/main/Module_6_project.ipynb\" target=\"_parent\"><img src=\"https://colab.research.google.com/assets/colab-badge.svg\" alt=\"Open In Colab\"/></a>"
      ]
    },
    {
      "cell_type": "code",
      "execution_count": null,
      "metadata": {
        "id": "s1lQ5Em3AsLp",
        "colab": {
          "base_uri": "https://localhost:8080/"
        },
        "outputId": "3422fc99-44bf-40f7-9029-5df5d54e97da"
      },
      "outputs": [
        {
          "output_type": "stream",
          "name": "stderr",
          "text": [
            "<ipython-input-20-b3a8be90c741>:5: DtypeWarning: Columns (12) have mixed types. Specify dtype option on import or set low_memory=False.\n",
            "  df = pd.read_csv(\"invoices.csv\")\n"
          ]
        }
      ],
      "source": [
        "import pandas as pd\n",
        "from scipy import stats\n",
        "\n",
        "\n",
        "df = pd.read_csv(\"invoices.csv\")"
      ]
    },
    {
      "cell_type": "code",
      "source": [
        "df.info()"
      ],
      "metadata": {
        "id": "-oRB6nI3--0Y"
      },
      "execution_count": null,
      "outputs": []
    },
    {
      "cell_type": "code",
      "source": [
        "\n",
        "def print_null_values(df):\n",
        "    null_counts = df.isnull().sum()\n",
        "    for column, count in null_counts.items():\n",
        "        if count > 0:\n",
        "            print(f\"Column '{column}' has {count} null value(s)\")\n",
        "\n",
        "\n",
        "print_null_values(df)"
      ],
      "metadata": {
        "id": "xPWNLYYkKc4-"
      },
      "execution_count": null,
      "outputs": []
    },
    {
      "cell_type": "code",
      "source": [
        "df.describe()"
      ],
      "metadata": {
        "id": "hI7dxfyQOWaT"
      },
      "execution_count": null,
      "outputs": []
    },
    {
      "cell_type": "code",
      "source": [
        "customer_invoices = df.groupby('Customer')['InvoiceID'].nunique().reset_index()\n",
        "\n",
        "\n",
        "customer_with_most_invoices = customer_invoices.sort_values(by='InvoiceID', ascending=False).iloc[0]\n",
        "\n",
        "most_invoices_customer_id = customer_with_most_invoices['Customer']\n",
        "\n",
        "\n",
        "print(f\"Customer {most_invoices_customer_id} created the most unique invoices\")"
      ],
      "metadata": {
        "id": "IPiODaoBQ88g"
      },
      "execution_count": null,
      "outputs": []
    },
    {
      "cell_type": "code",
      "source": [
        "count_null_rows = df[(df['StockItemID'].isnull()) & (df['Description'].isnull())].shape[0]\n",
        "\n",
        "print(\"Number of rows with both null StockItemID and null Description:\", count_null_rows)"
      ],
      "metadata": {
        "id": "EzvZzifoJAIA"
      },
      "execution_count": null,
      "outputs": []
    },
    {
      "cell_type": "code",
      "source": [
        "rows_before = df.shape[0]\n",
        "\n",
        "df_cleaned = df.dropna(subset=['StockItemID', 'Description'])\n",
        "\n",
        "rows_after = df_cleaned.shape[0]\n",
        "\n",
        "print(\"Number of rows before dropping:\", rows_before)\n",
        "print(\"Number of rows after dropping:\", rows_after)\n"
      ],
      "metadata": {
        "id": "JNE-fqFGL31e"
      },
      "execution_count": null,
      "outputs": []
    },
    {
      "cell_type": "code",
      "source": [
        "def convert_negative_tax(rate):\n",
        "    if rate < 0:\n",
        "        return rate * -1\n",
        "    else:\n",
        "        return rate\n",
        "\n",
        "\n",
        "df['TaxRate'] = df['TaxRate'].apply(convert_negative_tax)\n",
        "\n",
        "\n",
        "print(df['TaxRate'])"
      ],
      "metadata": {
        "id": "KWgEdOo6Oo18"
      },
      "execution_count": null,
      "outputs": []
    },
    {
      "cell_type": "code",
      "source": [
        "def calculate_average(column):\n",
        "    return column.mean()\n",
        "\n",
        "\n",
        "average_tax_rate = calculate_average(df['TaxRate'])\n",
        "\n",
        "\n",
        "print(\"Average Tax Rate:\", average_tax_rate)"
      ],
      "metadata": {
        "id": "DDjvT_NL1yFe",
        "colab": {
          "base_uri": "https://localhost:8080/"
        },
        "outputId": "44015a1c-1ed8-40b4-ae1e-9f2692d9cd12"
      },
      "execution_count": null,
      "outputs": [
        {
          "output_type": "stream",
          "name": "stdout",
          "text": [
            "Average Tax Rate: 14.992725100330984\n"
          ]
        }
      ]
    },
    {
      "cell_type": "code",
      "source": [
        "data_cleaned = df.dropna(subset=['TaxAmount'])"
      ],
      "metadata": {
        "id": "PgNMowCw2kPW"
      },
      "execution_count": null,
      "outputs": []
    },
    {
      "cell_type": "code",
      "source": [
        "average_tax_amount = data_cleaned['TaxAmount'].mean()\n",
        "\n",
        "print(\"Average TaxAmount after dropping null values:\", average_tax_amount)"
      ],
      "metadata": {
        "id": "ac2XOP0b2gYv",
        "colab": {
          "base_uri": "https://localhost:8080/"
        },
        "outputId": "144c10ef-49c8-4579-890a-b5436dadc023"
      },
      "execution_count": null,
      "outputs": [
        {
          "output_type": "stream",
          "name": "stdout",
          "text": [
            "Average TaxAmount after dropping null values: 110.87294243498098\n"
          ]
        }
      ]
    },
    {
      "cell_type": "code",
      "source": [
        "mask = df['TaxAmount'].isnull()\n",
        "\n",
        "\n",
        "imputed_values = (df['UnitPrice'] * df['Quantity'] * df['TaxRate']) / 100\n",
        "\n",
        "df.loc[mask, 'TaxAmount'] = imputed_values[mask]\n",
        "\n",
        "average_tax_amount_after_imputation = df['TaxAmount'].mean()\n",
        "\n",
        "print(\"Average TaxAmount after imputation:\", average_tax_amount_after_imputation)"
      ],
      "metadata": {
        "id": "2RmuFQwc2qBF",
        "colab": {
          "base_uri": "https://localhost:8080/"
        },
        "outputId": "be564d5a-8989-4020-8246-e801ba2bbac0"
      },
      "execution_count": null,
      "outputs": [
        {
          "output_type": "stream",
          "name": "stdout",
          "text": [
            "Average TaxAmount after imputation: 110.87294243498098\n"
          ]
        }
      ]
    },
    {
      "cell_type": "code",
      "source": [
        "invoice_data = df[['InvoiceLineID', 'InvoiceID']]\n",
        "\n",
        "\n",
        "duplicate_rows = invoice_data[invoice_data.duplicated(subset=['InvoiceLineID', 'InvoiceID'], keep=False)]\n",
        "\n",
        "\n",
        "print(\"Duplicate Rows:\")\n",
        "print(duplicate_rows)"
      ],
      "metadata": {
        "id": "vL_zZET7-fOA",
        "colab": {
          "base_uri": "https://localhost:8080/"
        },
        "outputId": "1acc09ac-1c31-4467-c975-d19c615c7561"
      },
      "execution_count": null,
      "outputs": [
        {
          "output_type": "stream",
          "name": "stdout",
          "text": [
            "Duplicate Rows:\n",
            "        InvoiceLineID  InvoiceID\n",
            "4                   5          4\n",
            "75                 76         35\n",
            "273               274        122\n",
            "334               335        154\n",
            "411               412        178\n",
            "...               ...        ...\n",
            "230543          36558      11285\n",
            "230544          21110       6502\n",
            "230545          34087      10504\n",
            "230546         103435      31836\n",
            "230547         192963      59503\n",
            "\n",
            "[4566 rows x 2 columns]\n"
          ]
        }
      ]
    },
    {
      "cell_type": "code",
      "source": [
        "data = df.drop_duplicates(subset=['InvoiceLineID', 'InvoiceID'])\n",
        "\n",
        "# Calculate the total number of rows in the data set after dropping duplicates\n",
        "total_rows_after_drop = len(data)\n",
        "\n",
        "# Display the total number of rows\n",
        "print(\"Total rows after dropping duplicates:\", total_rows_after_drop)"
      ],
      "metadata": {
        "colab": {
          "base_uri": "https://localhost:8080/"
        },
        "id": "8YEvmIhA-o1E",
        "outputId": "f2c26edc-d0cf-4ed2-9335-6e210651ff0d"
      },
      "execution_count": null,
      "outputs": [
        {
          "output_type": "stream",
          "name": "stdout",
          "text": [
            "Total rows after dropping duplicates: 228265\n"
          ]
        }
      ]
    },
    {
      "cell_type": "code",
      "source": [
        "z_scores = abs(stats.zscore(df['Quantity']))\n",
        "\n",
        "# Define the z-score threshold for outliers\n",
        "z_score_threshold = 3\n",
        "\n",
        "# Identify rows where the absolute z-score is greater than the threshold\n",
        "outliers_quantity = df[z_scores > z_score_threshold]\n",
        "\n",
        "# Count the number of rows considered outliers based on Quantity\n",
        "num_outliers_quantity = len(outliers_quantity)\n",
        "\n",
        "print(f\"Based on the Quantity column, {num_outliers_quantity} rows could be considered outliers.\")"
      ],
      "metadata": {
        "colab": {
          "base_uri": "https://localhost:8080/"
        },
        "id": "7UfiHfZCPUEa",
        "outputId": "495ff1a2-04f7-4dd6-cfc6-17cc7c116588"
      },
      "execution_count": null,
      "outputs": [
        {
          "output_type": "stream",
          "name": "stdout",
          "text": [
            "Based on the Quantity column, 6002 rows could be considered outliers.\n"
          ]
        }
      ]
    },
    {
      "cell_type": "code",
      "source": [
        "profit_by_item = df.groupby('Description')['LineProfit'].sum()\n",
        "\n",
        "# Find the item with the highest total profit\n",
        "most_profitable_item = profit_by_item.idxmax()\n",
        "total_profit = profit_by_item.max()\n",
        "\n",
        "print(f\"The item generating the most total profit is '{most_profitable_item}' with a total profit of {total_profit}.\")"
      ],
      "metadata": {
        "colab": {
          "base_uri": "https://localhost:8080/"
        },
        "id": "ujw_C3tTPmOn",
        "outputId": "b4f988c9-d9bb-4b93-abbd-8e24487ee59b"
      },
      "execution_count": null,
      "outputs": [
        {
          "output_type": "stream",
          "name": "stdout",
          "text": [
            "The item generating the most total profit is '20 mm Double sided bubble wrap 50m' with a total profit of 5323120.0.\n"
          ]
        }
      ]
    },
    {
      "cell_type": "code",
      "source": [
        "average_quantity_by_item = df.groupby('Description')['Quantity'].mean()\n",
        "\n",
        "# Find the item with the highest average quantity\n",
        "most_purchased_item = average_quantity_by_item.idxmax()\n",
        "average_quantity = average_quantity_by_item.max()\n",
        "\n",
        "print(f\"The item purchased in the greatest quantities in a single order, on average, is '{most_purchased_item}' with an average quantity of {average_quantity}.\")"
      ],
      "metadata": {
        "colab": {
          "base_uri": "https://localhost:8080/"
        },
        "id": "WMc8cqT1PvZ5",
        "outputId": "93655f33-3400-48d0-e593-5db3842b3049"
      },
      "execution_count": null,
      "outputs": [
        {
          "output_type": "stream",
          "name": "stdout",
          "text": [
            "The item purchased in the greatest quantities in a single order, on average, is 'Black and orange fragile despatch tape 48mmx75m' with an average quantity of 199.5114503816794.\n"
          ]
        }
      ]
    },
    {
      "cell_type": "code",
      "source": [
        "total_quantity_sold_by_item = df.groupby('Description')['Quantity'].sum()\n",
        "\n",
        "# Find the item with the highest total quantity sold\n",
        "highest_quantity_item = total_quantity_sold_by_item.idxmax()\n",
        "total_quantity_sold = total_quantity_sold_by_item.max()\n",
        "\n",
        "print(f\"The item with the highest total quantity sold is '{highest_quantity_item}' with a total quantity sold of {total_quantity_sold}.\")"
      ],
      "metadata": {
        "colab": {
          "base_uri": "https://localhost:8080/"
        },
        "id": "1q6i2GxxP7yA",
        "outputId": "a364390b-f3c4-44db-d776-b090bb9d2e07"
      },
      "execution_count": null,
      "outputs": [
        {
          "output_type": "stream",
          "name": "stdout",
          "text": [
            "The item with the highest total quantity sold is 'Black and orange fragile despatch tape 48mmx75m' with a total quantity sold of 209088.\n"
          ]
        }
      ]
    }
  ]
}