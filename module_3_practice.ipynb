{
  "nbformat": 4,
  "nbformat_minor": 0,
  "metadata": {
    "colab": {
      "provenance": [],
      "authorship_tag": "ABX9TyNT2/5Ho+6UQRpGcjfNJCaU",
      "include_colab_link": true
    },
    "kernelspec": {
      "name": "python3",
      "display_name": "Python 3"
    },
    "language_info": {
      "name": "python"
    }
  },
  "cells": [
    {
      "cell_type": "markdown",
      "metadata": {
        "id": "view-in-github",
        "colab_type": "text"
      },
      "source": [
        "<a href=\"https://colab.research.google.com/github/Rmiller01/Btech-Python/blob/main/module_3_practice.ipynb\" target=\"_parent\"><img src=\"https://colab.research.google.com/assets/colab-badge.svg\" alt=\"Open In Colab\"/></a>"
      ]
    },
    {
      "cell_type": "code",
      "execution_count": null,
      "metadata": {
        "id": "nZH4EdZGuxdt"
      },
      "outputs": [],
      "source": [
        "import pandas as pd"
      ]
    },
    {
      "cell_type": "code",
      "source": [
        "df = pd.read_csv('horse.csv')"
      ],
      "metadata": {
        "id": "3CNdzPHa7Lq1"
      },
      "execution_count": null,
      "outputs": []
    },
    {
      "cell_type": "code",
      "source": [
        "print('AverageWeight',df['Jockey weight'].mean())"
      ],
      "metadata": {
        "colab": {
          "base_uri": "https://localhost:8080/"
        },
        "id": "DgbVEW8t8GNs",
        "outputId": "1f21ee72-b590-4a68-fca5-8f0a520ff5d1"
      },
      "execution_count": null,
      "outputs": [
        {
          "output_type": "stream",
          "name": "stdout",
          "text": [
            "AverageWeight 55.86737263033175\n"
          ]
        }
      ]
    },
    {
      "cell_type": "code",
      "source": [
        "jockey_name = 'Brett Prebble'\n",
        "average_race_time = df[df['Jockey'] == jockey_name]['Race time'].mean()\n",
        "print(f'the average race time for Brett is {average_race_time}')"
      ],
      "metadata": {
        "colab": {
          "base_uri": "https://localhost:8080/"
        },
        "id": "WT38haCdLAmJ",
        "outputId": "1110ddfa-cd81-4e1e-a6cc-80b2d04d36f2"
      },
      "execution_count": null,
      "outputs": [
        {
          "output_type": "stream",
          "name": "stdout",
          "text": [
            "the average race time for Brett is 7517.20202020202\n"
          ]
        }
      ]
    },
    {
      "cell_type": "code",
      "source": [
        "first_place = df[df['Final place'] == 1]\n",
        "\n",
        "\n",
        "average_winnings = first_place['Prize money'].mean()\n",
        "\n",
        "# Round the result to two decimal places\n",
        "average_winnings = round(average_winnings, 2)\n",
        "\n",
        "print(f\"The average amount of money won by first-place jockeys is {average_winnings} HKD.\")\n"
      ],
      "metadata": {
        "id": "ChcNQbyDOAcJ",
        "colab": {
          "base_uri": "https://localhost:8080/"
        },
        "outputId": "11e367ad-620e-4ef6-9409-28825994b1ab"
      },
      "execution_count": null,
      "outputs": [
        {
          "output_type": "stream",
          "name": "stdout",
          "text": [
            "The average amount of money won by first-place jockeys is 1534781.48 HKD.\n"
          ]
        }
      ]
    },
    {
      "cell_type": "code",
      "source": [
        "race_1400m = df[df['Distance'] == 1400]\n",
        "\n",
        "\n",
        "fastest_time = race_1400m['Race time'].min()\n",
        "\n",
        "print(f\"The fastest race time for the 1400 meter race was {fastest_time} seconds.\")"
      ],
      "metadata": {
        "colab": {
          "base_uri": "https://localhost:8080/"
        },
        "id": "Vm0uw4FNNI1c",
        "outputId": "18b38809-2c64-4a5d-89fa-94c10031865e"
      },
      "execution_count": null,
      "outputs": [
        {
          "output_type": "stream",
          "name": "stdout",
          "text": [
            "The fastest race time for the 1400 meter race was 82 seconds.\n"
          ]
        }
      ]
    },
    {
      "cell_type": "code",
      "source": [
        "irish_1400m = df[(df['Distance'] == 1400) & (df['Country'] == 'Irland')]\n",
        "\n",
        "# Find the slowest race time in seconds for Irish horses in the 1400 meter race\n",
        "slowest_time = irish_1400m['Race time'].max()\n",
        "\n",
        "# Print the slowest race time in seconds\n",
        "print(f\"The slowest race time among Irish horses in the 1400 meter race was {slowest_time} seconds.\")\n"
      ],
      "metadata": {
        "colab": {
          "base_uri": "https://localhost:8080/"
        },
        "id": "jD97dpa4NhFU",
        "outputId": "6c3528f9-981f-4a2a-bb7c-459ce70586e9"
      },
      "execution_count": null,
      "outputs": [
        {
          "output_type": "stream",
          "name": "stdout",
          "text": [
            "The slowest race time among Irish horses in the 1400 meter race was 9291 seconds.\n"
          ]
        }
      ]
    },
    {
      "cell_type": "code",
      "source": [
        "Australian_jockeys = df[df['Country'] == 'Australia']\n",
        "\n",
        "jockey_race_counts = Australian_jockeys['Jockey'].value_counts()\n",
        "\n",
        "\n",
        "most_races_jockey = jockey_race_counts.idxmax()\n",
        "\n",
        "\n",
        "print(f\"The Australian jockey who has competed in the most races is {most_races_jockey}\")"
      ],
      "metadata": {
        "colab": {
          "base_uri": "https://localhost:8080/"
        },
        "id": "xJ-a57NzN8l9",
        "outputId": "71702cb8-b83d-40dd-bfcb-d1333df39ef1"
      },
      "execution_count": null,
      "outputs": [
        {
          "output_type": "stream",
          "name": "stdout",
          "text": [
            "The Australian jockey who has competed in the most races is Joao Moreira\n"
          ]
        }
      ]
    },
    {
      "cell_type": "code",
      "source": [
        "target_countries = ['Australia', 'Irland', 'New Zealand']\n",
        "filtered_data = df[df['Country'].isin(target_countries)]\n",
        "\n",
        "jockey_average_odds = filtered_data.groupby('Jockey')['Odds'].mean()\n",
        "\n",
        "\n",
        "least_likely_jockey = jockey_average_odds.idxmax()\n",
        "\n",
        "\n",
        "print(f\"The jockey with the least likelihood to win a race on average (highest odds) from Australia, Ireland, or New Zealand is {least_likely_jockey}\")"
      ],
      "metadata": {
        "colab": {
          "base_uri": "https://localhost:8080/"
        },
        "id": "TK78uAdaPFs0",
        "outputId": "9bf3e792-fade-4bbc-fd44-a58685301d0b"
      },
      "execution_count": null,
      "outputs": [
        {
          "output_type": "stream",
          "name": "stdout",
          "text": [
            "The jockey with the least likelihood to win a race on average (highest odds) from Australia, Ireland, or New Zealand is H Lam\n"
          ]
        }
      ]
    },
    {
      "cell_type": "code",
      "source": [
        "Horse_age = df[df['Horse age'] >= 10]\n",
        "\n",
        "average_race_time = Horse_age.groupby('HorseId')['Race time'].mean()\n",
        "\n",
        "best_average_time_horse = average_race_time.idxmin()\n",
        "\n",
        "print(f\"The horse ID with the best average race time among those aged 10 or above is {best_average_time_horse}\")"
      ],
      "metadata": {
        "colab": {
          "base_uri": "https://localhost:8080/"
        },
        "id": "ttrrIRluPw0g",
        "outputId": "28bac824-96cd-4c97-a97c-14d846bb7e53"
      },
      "execution_count": null,
      "outputs": [
        {
          "output_type": "stream",
          "name": "stdout",
          "text": [
            "The horse ID with the best average race time among those aged 10 or above is 22206\n"
          ]
        }
      ]
    },
    {
      "cell_type": "code",
      "source": [
        "high_prize_first_place = df[(df['Prize money'] > 2000000) & (df['Final place'] == 1)]\n",
        "\n",
        "country_win_counts = high_prize_first_place['Country'].value_counts()\n",
        "\n",
        "most_wins_country = country_win_counts.idxmax()\n",
        "\n",
        "\n",
        "print(f\"The country that won the most first-place races with prize money over $2,000,000 is {most_wins_country} \")"
      ],
      "metadata": {
        "colab": {
          "base_uri": "https://localhost:8080/"
        },
        "id": "IT3N3uKKQdUy",
        "outputId": "8b43bb17-5ddf-4f10-d611-0c4a485be11f"
      },
      "execution_count": null,
      "outputs": [
        {
          "output_type": "stream",
          "name": "stdout",
          "text": [
            "The country that won the most first-place races with prize money over $2,000,000 is Australia \n"
          ]
        }
      ]
    }
  ]
}