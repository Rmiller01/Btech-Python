{
  "nbformat": 4,
  "nbformat_minor": 0,
  "metadata": {
    "colab": {
      "provenance": [],
      "authorship_tag": "ABX9TyOnrYRjYb7OuUg1wywkQDtP",
      "include_colab_link": true
    },
    "kernelspec": {
      "name": "python3",
      "display_name": "Python 3"
    },
    "language_info": {
      "name": "python"
    }
  },
  "cells": [
    {
      "cell_type": "markdown",
      "metadata": {
        "id": "view-in-github",
        "colab_type": "text"
      },
      "source": [
        "<a href=\"https://colab.research.google.com/github/Rmiller01/Btech-Python/blob/main/Module_4_practice.ipynb\" target=\"_parent\"><img src=\"https://colab.research.google.com/assets/colab-badge.svg\" alt=\"Open In Colab\"/></a>"
      ]
    },
    {
      "cell_type": "code",
      "source": [
        "import pandas as pd\n",
        "\n",
        "df = pd.read_csv(\"Rankings_2022.csv\")"
      ],
      "metadata": {
        "id": "oNq7ubdTn3eW"
      },
      "execution_count": null,
      "outputs": []
    },
    {
      "cell_type": "code",
      "execution_count": null,
      "metadata": {
        "id": "JPq_L0l5nD_x"
      },
      "outputs": [],
      "source": [
        "df.head(5)"
      ]
    },
    {
      "cell_type": "code",
      "source": [
        "df.sort_values(by=\"name\", ascending=True)"
      ],
      "metadata": {
        "id": "p7y56XhroRp6"
      },
      "execution_count": null,
      "outputs": []
    },
    {
      "cell_type": "code",
      "source": [
        "player_data = [\n",
        "    {\"name\": \"Adrian Mannarino\", \"rank\": \"58\"},\n",
        "    {\"name\": \"Albert Ramos\", \"rank\": \"44\"},\n",
        "    {\"name\": \"Alejandro Daviodovich Fokina\", \"rank\": \"47\"},\n",
        "    {\"name\": \"Alejandro Tabilo\", \"rank\": \"144\"},\n",
        "    {\"name\": \"Aleksnadar Vukic\", \"rank\": \"140\"},\n",
        "]\n"
      ],
      "metadata": {
        "id": "9SHs2KkKtKg3"
      },
      "execution_count": null,
      "outputs": []
    },
    {
      "cell_type": "code",
      "source": [
        "player_rank = df[df['rank']== 100]\n",
        "\n",
        "print(player_rank)"
      ],
      "metadata": {
        "id": "R6M11qAku_3T"
      },
      "execution_count": null,
      "outputs": []
    },
    {
      "cell_type": "code",
      "source": [
        "middle_player_rank = [{\"rank\": \"100\", \"name\": \"Steve Johnson\", \"country_name\": \"United States\", \"points\": \"719\"}]\n",
        "\n",
        "print(middle_player_rank)\n",
        "\n"
      ],
      "metadata": {
        "id": "UF3j0MhHv8im"
      },
      "execution_count": null,
      "outputs": []
    },
    {
      "cell_type": "code",
      "source": [
        "#What is the expected output for the following code?\n",
        "rank_1 = {\n",
        "    'name': 'Novak Djokovic',\n",
        "    'points': 11015\n",
        "}\n",
        "rank_2 = {\n",
        "    'name': 'Daniil Medvedev',\n",
        "    'points': 10125\n",
        "}\n",
        "rank_3 = {\n",
        "    'name': 'Alexander Zverev',\n",
        "    'points': 7780\n",
        "}\n",
        "players = [rank_1 , rank_2, rank_3]\n",
        "\n",
        "\n",
        "for best in players:\n",
        "    print(best['name'])"
      ],
      "metadata": {
        "colab": {
          "base_uri": "https://localhost:8080/"
        },
        "id": "n7y-Ks3Fx_O_",
        "outputId": "b7ebdd94-0b1c-45ac-f327-f0e652b25aa8"
      },
      "execution_count": null,
      "outputs": [
        {
          "output_type": "stream",
          "name": "stdout",
          "text": [
            "Novak Djokovic\n",
            "Daniil Medvedev\n",
            "Alexander Zverev\n"
          ]
        }
      ]
    },
    {
      "cell_type": "code",
      "source": [
        "top_3_greats = [\n",
        "    {'name': 'Novak Djokovic', 'points': 11015 },\n",
        "    {'name': 'Daniil Medvedev', 'points': 10125},\n",
        "    {'name': 'Alexander Zverev', 'points': 7780}\n",
        "]\n",
        "\n",
        "total_points = 0\n",
        "\n",
        "for player in top_3_greats:\n",
        "    total_points += player['points']\n",
        "\n",
        "average_points = total_points / 3\n",
        "\n",
        "print(\"Average Points of Top 3 Tennis Players:\")\n",
        "print(average_points)\n"
      ],
      "metadata": {
        "colab": {
          "base_uri": "https://localhost:8080/"
        },
        "id": "bezYsnmsyvix",
        "outputId": "9e3090b5-af7c-486e-b2a1-0f7aa60ba150"
      },
      "execution_count": null,
      "outputs": [
        {
          "output_type": "stream",
          "name": "stdout",
          "text": [
            "Average Points of Top 3 Tennis Players:\n",
            "9640.0\n"
          ]
        }
      ]
    },
    {
      "cell_type": "code",
      "source": [
        "tennis_players = [\n",
        "    {'name': 'Novak Djokovic', 'country': 'Serbia', 'rank': 1},\n",
        "    {'name': 'Daniil Medvedev', 'country': 'Russian Federation', 'rank': 2},\n",
        "    {'name': 'Alexander Zverev', 'country': 'Germany', 'rank': 3},\n",
        "    {'name': 'Stefanos Tsitsipas', 'country': 'Greece', 'rank': 4},\n",
        "    {'name': 'Rafael Nadal', 'country': 'Spain', 'rank': 5}\n",
        "]\n",
        "\n",
        "for player in tennis_players:\n",
        "  print(tennis_players)"
      ],
      "metadata": {
        "id": "XftmRMcdzgOv"
      },
      "execution_count": null,
      "outputs": []
    }
  ]
}